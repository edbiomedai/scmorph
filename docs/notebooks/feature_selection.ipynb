{
 "cells": [
  {
   "cell_type": "markdown",
   "metadata": {},
   "source": [
    "# Feature selection\n",
    "Morphological profile features often exhibit strong correlation structures. To\n",
    "remove redundant features, `scmorph` integrates methods that detect correlated\n",
    "features and removes them."
   ]
  },
  {
   "cell_type": "code",
   "execution_count": 1,
   "metadata": {},
   "outputs": [
    {
     "data": {
      "text/plain": [
       "(12352, 1687)"
      ]
     },
     "execution_count": 1,
     "metadata": {},
     "output_type": "execute_result"
    }
   ],
   "source": [
    "import scmorph as sm\n",
    "\n",
    "adata = sm.datasets.rohban2017_minimal()\n",
    "adata.shape"
   ]
  },
  {
   "cell_type": "markdown",
   "metadata": {},
   "source": [
    "This example dataset has 1687 features, many of which will be at least partly\n",
    "redundant. `scmorph` makes removing redunant features easy:"
   ]
  },
  {
   "cell_type": "code",
   "execution_count": 2,
   "metadata": {},
   "outputs": [
    {
     "data": {
      "text/plain": [
       "(12352, 1455)"
      ]
     },
     "execution_count": 2,
     "metadata": {},
     "output_type": "execute_result"
    }
   ],
   "source": [
    "adata_filtered_pearson = sm.pp.select_features(adata, method=\"pearson\", copy=True)\n",
    "adata_filtered_pearson.shape"
   ]
  },
  {
   "cell_type": "markdown",
   "metadata": {},
   "source": [
    "Behind the scenes, this is what happens:\n",
    "1. Correlate all features with each other\n",
    "2. For any feature pair with correlation coefficient > threshold (0.9 by\n",
    "   default), remove one of the features. To decide which one, check which of the\n",
    "   two features has the higher correlation with all other features.\n",
    "   \n",
    "By varying the treshold, we can be more or less stringent in our filtering."
   ]
  },
  {
   "cell_type": "code",
   "execution_count": null,
   "metadata": {},
   "outputs": [],
   "source": [
    "adata_filtered_pearson = sm.pp.select_features(adata, method=\"pearson\", cor_cutoff=0.8, copy=True)\n",
    "adata_filtered_pearson.shape"
   ]
  },
  {
   "cell_type": "markdown",
   "metadata": {},
   "source": [
    "Likewise, we can use other correlation coefficients that may be more suitable\n",
    "for morphological features, which do not always follow normal distributions."
   ]
  },
  {
   "cell_type": "code",
   "execution_count": null,
   "metadata": {},
   "outputs": [
    {
     "name": "stderr",
     "output_type": "stream",
     "text": [
      "/Users/s2221912/conda/envs/scmorph/lib/python3.10/site-packages/numpy/lib/function_base.py:2853: RuntimeWarning: invalid value encountered in divide\n",
      "  c /= stddev[:, None]\n",
      "/Users/s2221912/conda/envs/scmorph/lib/python3.10/site-packages/numpy/lib/function_base.py:2854: RuntimeWarning: invalid value encountered in divide\n",
      "  c /= stddev[None, :]\n"
     ]
    },
    {
     "data": {
      "text/plain": [
       "(12352, 1295)"
      ]
     },
     "execution_count": 4,
     "metadata": {},
     "output_type": "execute_result"
    }
   ],
   "source": [
    "adata_filtered_spearman = sm.pp.select_features(adata, method=\"spearman\", cor_cutoff=0.8, copy=True)\n",
    "adata_filtered_spearman.shape"
   ]
  },
  {
   "cell_type": "markdown",
   "metadata": {},
   "source": [
    "We can also subset the data before performing this correlation filtering, which\n",
    "can help speed up processing speeds for large datasets. For example, if we only\n",
    "want to use 3000 cells while estimating correlations, we can use `n_obs` as\n",
    "below. Note that, because we are not using the full data computing correlation\n",
    "coefficients, this can the number of features retained."
   ]
  },
  {
   "cell_type": "code",
   "execution_count": null,
   "metadata": {},
   "outputs": [
    {
     "name": "stderr",
     "output_type": "stream",
     "text": [
      "/Users/s2221912/conda/envs/scmorph/lib/python3.10/site-packages/numpy/lib/function_base.py:2853: RuntimeWarning: invalid value encountered in divide\n",
      "  c /= stddev[:, None]\n",
      "/Users/s2221912/conda/envs/scmorph/lib/python3.10/site-packages/numpy/lib/function_base.py:2854: RuntimeWarning: invalid value encountered in divide\n",
      "  c /= stddev[None, :]\n"
     ]
    },
    {
     "data": {
      "text/plain": [
       "(12352, 1293)"
      ]
     },
     "execution_count": 5,
     "metadata": {},
     "output_type": "execute_result"
    }
   ],
   "source": [
    "adata_filtered_spearman = sm.pp.select_features(adata, method=\"spearman\", cor_cutoff=0.8, copy=True, n_obs=3000)\n",
    "adata_filtered_spearman.shape"
   ]
  },
  {
   "cell_type": "markdown",
   "metadata": {},
   "source": [
    "`scmorph` also integrates an adapted version of the Chatterjee correlation\n",
    "coefficient, based on [work by Lin and Han (2021)](https://doi.org/10/grdrs2).\n",
    "While it is slower to compute than the other correlation coefficients, it makes\n",
    "fewer assumptions and can find correlations that may be missed by\n",
    "other coefficients of correlation."
   ]
  },
  {
   "cell_type": "code",
   "execution_count": null,
   "metadata": {},
   "outputs": [
    {
     "data": {
      "text/plain": [
       "(12352, 1477)"
      ]
     },
     "execution_count": 6,
     "metadata": {},
     "output_type": "execute_result"
    }
   ],
   "source": [
    "adata_filtered_spearman = sm.pp.select_features(adata, method=\"chatterjee\", cor_cutoff=0.7, copy=True, n_obs=1000)\n",
    "adata_filtered_spearman.shape"
   ]
  },
  {
   "cell_type": "markdown",
   "metadata": {},
   "source": [
    "Note that `select_features` also does some additional filtering behind the scenes.\n",
    "Specifically, it removes features with very low variance. Features affected by\n",
    "this filter are usually not informative and can be safely removed. You can see\n",
    "which features are affected by this filter after running the function:"
   ]
  },
  {
   "cell_type": "code",
   "execution_count": 7,
   "metadata": {},
   "outputs": [
    {
     "data": {
      "text/plain": [
       "True     1585\n",
       "False     102\n",
       "Name: qc_pass_var, dtype: int64"
      ]
     },
     "execution_count": 7,
     "metadata": {},
     "output_type": "execute_result"
    }
   ],
   "source": [
    "adata.var[\"qc_pass_var\"].value_counts()"
   ]
  },
  {
   "cell_type": "code",
   "execution_count": 8,
   "metadata": {},
   "outputs": [
    {
     "data": {
      "text/html": [
       "<div>\n",
       "<style scoped>\n",
       "    .dataframe tbody tr th:only-of-type {\n",
       "        vertical-align: middle;\n",
       "    }\n",
       "\n",
       "    .dataframe tbody tr th {\n",
       "        vertical-align: top;\n",
       "    }\n",
       "\n",
       "    .dataframe thead th {\n",
       "        text-align: right;\n",
       "    }\n",
       "</style>\n",
       "<table border=\"1\" class=\"dataframe\">\n",
       "  <thead>\n",
       "    <tr style=\"text-align: right;\">\n",
       "      <th></th>\n",
       "      <th>Object</th>\n",
       "      <th>Module</th>\n",
       "      <th>feature_1</th>\n",
       "      <th>feature_2</th>\n",
       "      <th>feature_3</th>\n",
       "      <th>feature_4</th>\n",
       "      <th>qc_pass_var</th>\n",
       "    </tr>\n",
       "  </thead>\n",
       "  <tbody>\n",
       "    <tr>\n",
       "      <th>Cells_Correlation_Costes_RNA_Mito</th>\n",
       "      <td>Cells</td>\n",
       "      <td>Correlation</td>\n",
       "      <td>Costes</td>\n",
       "      <td>RNA</td>\n",
       "      <td>Mito</td>\n",
       "      <td>NaN</td>\n",
       "      <td>False</td>\n",
       "    </tr>\n",
       "    <tr>\n",
       "      <th>Cells_Correlation_Costes_ER_RNA</th>\n",
       "      <td>Cells</td>\n",
       "      <td>Correlation</td>\n",
       "      <td>Costes</td>\n",
       "      <td>ER</td>\n",
       "      <td>RNA</td>\n",
       "      <td>NaN</td>\n",
       "      <td>False</td>\n",
       "    </tr>\n",
       "    <tr>\n",
       "      <th>Cytoplasm_Intensity_MeanIntensityEdge_DNA</th>\n",
       "      <td>Cytoplasm</td>\n",
       "      <td>Intensity</td>\n",
       "      <td>MeanIntensityEdge</td>\n",
       "      <td>DNA</td>\n",
       "      <td>NaN</td>\n",
       "      <td>NaN</td>\n",
       "      <td>False</td>\n",
       "    </tr>\n",
       "    <tr>\n",
       "      <th>Nuclei_AreaShape_Zernike_9_7</th>\n",
       "      <td>Nuclei</td>\n",
       "      <td>AreaShape</td>\n",
       "      <td>Zernike</td>\n",
       "      <td>9</td>\n",
       "      <td>7</td>\n",
       "      <td>NaN</td>\n",
       "      <td>False</td>\n",
       "    </tr>\n",
       "    <tr>\n",
       "      <th>Cells_Intensity_MADIntensity_DNA</th>\n",
       "      <td>Cells</td>\n",
       "      <td>Intensity</td>\n",
       "      <td>MADIntensity</td>\n",
       "      <td>DNA</td>\n",
       "      <td>NaN</td>\n",
       "      <td>NaN</td>\n",
       "      <td>False</td>\n",
       "    </tr>\n",
       "  </tbody>\n",
       "</table>\n",
       "</div>"
      ],
      "text/plain": [
       "                                              Object       Module  \\\n",
       "Cells_Correlation_Costes_RNA_Mito              Cells  Correlation   \n",
       "Cells_Correlation_Costes_ER_RNA                Cells  Correlation   \n",
       "Cytoplasm_Intensity_MeanIntensityEdge_DNA  Cytoplasm    Intensity   \n",
       "Nuclei_AreaShape_Zernike_9_7                  Nuclei    AreaShape   \n",
       "Cells_Intensity_MADIntensity_DNA               Cells    Intensity   \n",
       "\n",
       "                                                   feature_1 feature_2  \\\n",
       "Cells_Correlation_Costes_RNA_Mito                     Costes       RNA   \n",
       "Cells_Correlation_Costes_ER_RNA                       Costes        ER   \n",
       "Cytoplasm_Intensity_MeanIntensityEdge_DNA  MeanIntensityEdge       DNA   \n",
       "Nuclei_AreaShape_Zernike_9_7                         Zernike         9   \n",
       "Cells_Intensity_MADIntensity_DNA                MADIntensity       DNA   \n",
       "\n",
       "                                          feature_3 feature_4  qc_pass_var  \n",
       "Cells_Correlation_Costes_RNA_Mito              Mito       NaN        False  \n",
       "Cells_Correlation_Costes_ER_RNA                 RNA       NaN        False  \n",
       "Cytoplasm_Intensity_MeanIntensityEdge_DNA       NaN       NaN        False  \n",
       "Nuclei_AreaShape_Zernike_9_7                      7       NaN        False  \n",
       "Cells_Intensity_MADIntensity_DNA                NaN       NaN        False  "
      ]
     },
     "execution_count": 8,
     "metadata": {},
     "output_type": "execute_result"
    }
   ],
   "source": [
    "adata.var.query(\"qc_pass_var == False\").sample(5)"
   ]
  }
 ],
 "metadata": {
  "kernelspec": {
   "display_name": "Python 3",
   "language": "python",
   "name": "python3"
  },
  "language_info": {
   "codemirror_mode": {
    "name": "ipython",
    "version": 3
   },
   "file_extension": ".py",
   "mimetype": "text/x-python",
   "name": "python",
   "nbconvert_exporter": "python",
   "pygments_lexer": "ipython3",
   "version": "3.10.10"
  }
 },
 "nbformat": 4,
 "nbformat_minor": 2
}
